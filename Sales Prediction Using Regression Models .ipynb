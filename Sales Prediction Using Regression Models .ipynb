{
 "cells": [
  {
   "cell_type": "markdown",
   "metadata": {},
   "source": [
    "# EDA With python on the retail dataset \n",
    "\n",
    "## Importing Libraries "
   ]
  },
  {
   "cell_type": "code",
   "execution_count": 1,
   "metadata": {},
   "outputs": [],
   "source": [
    "import pandas as pd\n",
    "import numpy as np \n",
    "import matplotlib.pyplot as plt \n",
    "import seaborn as sns \n",
    "%matplotlib inline"
   ]
  },
  {
   "cell_type": "markdown",
   "metadata": {},
   "source": [
    "### Data Cleaning \n",
    "\n"
   ]
  },
  {
   "cell_type": "code",
   "execution_count": 2,
   "metadata": {},
   "outputs": [
    {
     "data": {
      "text/html": [
       "<div>\n",
       "<style scoped>\n",
       "    .dataframe tbody tr th:only-of-type {\n",
       "        vertical-align: middle;\n",
       "    }\n",
       "\n",
       "    .dataframe tbody tr th {\n",
       "        vertical-align: top;\n",
       "    }\n",
       "\n",
       "    .dataframe thead th {\n",
       "        text-align: right;\n",
       "    }\n",
       "</style>\n",
       "<table border=\"1\" class=\"dataframe\">\n",
       "  <thead>\n",
       "    <tr style=\"text-align: right;\">\n",
       "      <th></th>\n",
       "      <th>TV</th>\n",
       "      <th>Radio</th>\n",
       "      <th>Social Media</th>\n",
       "      <th>Influencer</th>\n",
       "      <th>Sales</th>\n",
       "    </tr>\n",
       "  </thead>\n",
       "  <tbody>\n",
       "    <tr>\n",
       "      <th>0</th>\n",
       "      <td>16.0</td>\n",
       "      <td>6.566231</td>\n",
       "      <td>2.907983</td>\n",
       "      <td>Mega</td>\n",
       "      <td>54.732757</td>\n",
       "    </tr>\n",
       "    <tr>\n",
       "      <th>1</th>\n",
       "      <td>13.0</td>\n",
       "      <td>9.237765</td>\n",
       "      <td>2.409567</td>\n",
       "      <td>Mega</td>\n",
       "      <td>46.677897</td>\n",
       "    </tr>\n",
       "    <tr>\n",
       "      <th>2</th>\n",
       "      <td>41.0</td>\n",
       "      <td>15.886446</td>\n",
       "      <td>2.913410</td>\n",
       "      <td>Mega</td>\n",
       "      <td>150.177829</td>\n",
       "    </tr>\n",
       "    <tr>\n",
       "      <th>3</th>\n",
       "      <td>83.0</td>\n",
       "      <td>30.020028</td>\n",
       "      <td>6.922304</td>\n",
       "      <td>Mega</td>\n",
       "      <td>298.246340</td>\n",
       "    </tr>\n",
       "    <tr>\n",
       "      <th>4</th>\n",
       "      <td>15.0</td>\n",
       "      <td>8.437408</td>\n",
       "      <td>1.405998</td>\n",
       "      <td>Micro</td>\n",
       "      <td>56.594181</td>\n",
       "    </tr>\n",
       "  </tbody>\n",
       "</table>\n",
       "</div>"
      ],
      "text/plain": [
       "     TV      Radio  Social Media Influencer       Sales\n",
       "0  16.0   6.566231      2.907983       Mega   54.732757\n",
       "1  13.0   9.237765      2.409567       Mega   46.677897\n",
       "2  41.0  15.886446      2.913410       Mega  150.177829\n",
       "3  83.0  30.020028      6.922304       Mega  298.246340\n",
       "4  15.0   8.437408      1.405998      Micro   56.594181"
      ]
     },
     "execution_count": 2,
     "metadata": {},
     "output_type": "execute_result"
    }
   ],
   "source": [
    "retail= pd.read_csv('Dummy Data HSS.csv')\n",
    "retail.head()"
   ]
  },
  {
   "cell_type": "markdown",
   "metadata": {},
   "source": [
    "### 1.Continuous Data \n",
    "     Taking into account the null values "
   ]
  },
  {
   "cell_type": "code",
   "execution_count": 3,
   "metadata": {},
   "outputs": [
    {
     "data": {
      "text/plain": [
       "TV              10\n",
       "Radio            4\n",
       "Social Media     6\n",
       "Influencer       0\n",
       "Sales            6\n",
       "dtype: int64"
      ]
     },
     "execution_count": 3,
     "metadata": {},
     "output_type": "execute_result"
    }
   ],
   "source": [
    "retail.isnull().sum()"
   ]
  },
  {
   "cell_type": "code",
   "execution_count": 4,
   "metadata": {},
   "outputs": [
    {
     "data": {
      "text/plain": [
       "<AxesSubplot:>"
      ]
     },
     "execution_count": 4,
     "metadata": {},
     "output_type": "execute_result"
    },
    {
     "data": {
      "image/png": "[encoded data removed]",
      "text/plain": [
       "<Figure size 432x288 with 1 Axes>"
      ]
     },
     "metadata": {
      "needs_background": "light"
     },
     "output_type": "display_data"
    }
   ],
   "source": [
    "sns.heatmap(retail.isnull(), yticklabels= False, cbar= False, cmap='viridis')"
   ]
  },
  {
   "cell_type": "markdown",
   "metadata": {},
   "source": [
    "As the missing data is Continuous in nature, we will fill in the average values in the null places "
   ]
  },
  {
   "cell_type": "code",
   "execution_count": 5,
   "metadata": {},
   "outputs": [
    {
     "data": {
      "text/plain": [
       "TV              0\n",
       "Radio           0\n",
       "Social Media    0\n",
       "Influencer      0\n",
       "Sales           0\n",
       "dtype: int64"
      ]
     },
     "execution_count": 5,
     "metadata": {},
     "output_type": "execute_result"
    }
   ],
   "source": [
    "retail=retail.fillna(retail.mean())\n",
    "retail.isnull().sum()"
   ]
  },
  {
   "cell_type": "markdown",
   "metadata": {},
   "source": [
    "### 2. Categorical Data \n",
    "  We will convert categorical data into numeric form using dummies "
   ]
  },
  {
   "cell_type": "code",
   "execution_count": 6,
   "metadata": {},
   "outputs": [
    {
     "data": {
      "text/html": [
       "<div>\n",
       "<style scoped>\n",
       "    .dataframe tbody tr th:only-of-type {\n",
       "        vertical-align: middle;\n",
       "    }\n",
       "\n",
       "    .dataframe tbody tr th {\n",
       "        vertical-align: top;\n",
       "    }\n",
       "\n",
       "    .dataframe thead th {\n",
       "        text-align: right;\n",
       "    }\n",
       "</style>\n",
       "<table border=\"1\" class=\"dataframe\">\n",
       "  <thead>\n",
       "    <tr style=\"text-align: right;\">\n",
       "      <th></th>\n",
       "      <th>TV</th>\n",
       "      <th>Radio</th>\n",
       "      <th>Social Media</th>\n",
       "      <th>Sales</th>\n",
       "      <th>Influencer_Macro</th>\n",
       "      <th>Influencer_Mega</th>\n",
       "      <th>Influencer_Micro</th>\n",
       "      <th>Influencer_Nano</th>\n",
       "    </tr>\n",
       "  </thead>\n",
       "  <tbody>\n",
       "    <tr>\n",
       "      <th>0</th>\n",
       "      <td>16.0</td>\n",
       "      <td>6.566231</td>\n",
       "      <td>2.907983</td>\n",
       "      <td>54.732757</td>\n",
       "      <td>0</td>\n",
       "      <td>1</td>\n",
       "      <td>0</td>\n",
       "      <td>0</td>\n",
       "    </tr>\n",
       "    <tr>\n",
       "      <th>1</th>\n",
       "      <td>13.0</td>\n",
       "      <td>9.237765</td>\n",
       "      <td>2.409567</td>\n",
       "      <td>46.677897</td>\n",
       "      <td>0</td>\n",
       "      <td>1</td>\n",
       "      <td>0</td>\n",
       "      <td>0</td>\n",
       "    </tr>\n",
       "    <tr>\n",
       "      <th>2</th>\n",
       "      <td>41.0</td>\n",
       "      <td>15.886446</td>\n",
       "      <td>2.913410</td>\n",
       "      <td>150.177829</td>\n",
       "      <td>0</td>\n",
       "      <td>1</td>\n",
       "      <td>0</td>\n",
       "      <td>0</td>\n",
       "    </tr>\n",
       "    <tr>\n",
       "      <th>3</th>\n",
       "      <td>83.0</td>\n",
       "      <td>30.020028</td>\n",
       "      <td>6.922304</td>\n",
       "      <td>298.246340</td>\n",
       "      <td>0</td>\n",
       "      <td>1</td>\n",
       "      <td>0</td>\n",
       "      <td>0</td>\n",
       "    </tr>\n",
       "    <tr>\n",
       "      <th>4</th>\n",
       "      <td>15.0</td>\n",
       "      <td>8.437408</td>\n",
       "      <td>1.405998</td>\n",
       "      <td>56.594181</td>\n",
       "      <td>0</td>\n",
       "      <td>0</td>\n",
       "      <td>1</td>\n",
       "      <td>0</td>\n",
       "    </tr>\n",
       "  </tbody>\n",
       "</table>\n",
       "</div>"
      ],
      "text/plain": [
       "     TV      Radio  Social Media       Sales  Influencer_Macro  \\\n",
       "0  16.0   6.566231      2.907983   54.732757                 0   \n",
       "1  13.0   9.237765      2.409567   46.677897                 0   \n",
       "2  41.0  15.886446      2.913410  150.177829                 0   \n",
       "3  83.0  30.020028      6.922304  298.246340                 0   \n",
       "4  15.0   8.437408      1.405998   56.594181                 0   \n",
       "\n",
       "   Influencer_Mega  Influencer_Micro  Influencer_Nano  \n",
       "0                1                 0                0  \n",
       "1                1                 0                0  \n",
       "2                1                 0                0  \n",
       "3                1                 0                0  \n",
       "4                0                 1                0  "
      ]
     },
     "execution_count": 6,
     "metadata": {},
     "output_type": "execute_result"
    }
   ],
   "source": [
    "retail = pd.get_dummies(retail)\n",
    "retail.head()"
   ]
  },
  {
   "cell_type": "markdown",
   "metadata": {},
   "source": [
    "As sales is the dependent variable we will shift it to the end for better splitting and modelling "
   ]
  },
  {
   "cell_type": "code",
   "execution_count": 7,
   "metadata": {},
   "outputs": [
    {
     "data": {
      "text/html": [
       "<div>\n",
       "<style scoped>\n",
       "    .dataframe tbody tr th:only-of-type {\n",
       "        vertical-align: middle;\n",
       "    }\n",
       "\n",
       "    .dataframe tbody tr th {\n",
       "        vertical-align: top;\n",
       "    }\n",
       "\n",
       "    .dataframe thead th {\n",
       "        text-align: right;\n",
       "    }\n",
       "</style>\n",
       "<table border=\"1\" class=\"dataframe\">\n",
       "  <thead>\n",
       "    <tr style=\"text-align: right;\">\n",
       "      <th></th>\n",
       "      <th>TV</th>\n",
       "      <th>Radio</th>\n",
       "      <th>Social Media</th>\n",
       "      <th>Influencer_Macro</th>\n",
       "      <th>Influencer_Mega</th>\n",
       "      <th>Influencer_Micro</th>\n",
       "      <th>Influencer_Nano</th>\n",
       "      <th>Sales</th>\n",
       "    </tr>\n",
       "  </thead>\n",
       "  <tbody>\n",
       "    <tr>\n",
       "      <th>0</th>\n",
       "      <td>16.0</td>\n",
       "      <td>6.566231</td>\n",
       "      <td>2.907983</td>\n",
       "      <td>0</td>\n",
       "      <td>1</td>\n",
       "      <td>0</td>\n",
       "      <td>0</td>\n",
       "      <td>54.732757</td>\n",
       "    </tr>\n",
       "    <tr>\n",
       "      <th>1</th>\n",
       "      <td>13.0</td>\n",
       "      <td>9.237765</td>\n",
       "      <td>2.409567</td>\n",
       "      <td>0</td>\n",
       "      <td>1</td>\n",
       "      <td>0</td>\n",
       "      <td>0</td>\n",
       "      <td>46.677897</td>\n",
       "    </tr>\n",
       "    <tr>\n",
       "      <th>2</th>\n",
       "      <td>41.0</td>\n",
       "      <td>15.886446</td>\n",
       "      <td>2.913410</td>\n",
       "      <td>0</td>\n",
       "      <td>1</td>\n",
       "      <td>0</td>\n",
       "      <td>0</td>\n",
       "      <td>150.177829</td>\n",
       "    </tr>\n",
       "    <tr>\n",
       "      <th>3</th>\n",
       "      <td>83.0</td>\n",
       "      <td>30.020028</td>\n",
       "      <td>6.922304</td>\n",
       "      <td>0</td>\n",
       "      <td>1</td>\n",
       "      <td>0</td>\n",
       "      <td>0</td>\n",
       "      <td>298.246340</td>\n",
       "    </tr>\n",
       "    <tr>\n",
       "      <th>4</th>\n",
       "      <td>15.0</td>\n",
       "      <td>8.437408</td>\n",
       "      <td>1.405998</td>\n",
       "      <td>0</td>\n",
       "      <td>0</td>\n",
       "      <td>1</td>\n",
       "      <td>0</td>\n",
       "      <td>56.594181</td>\n",
       "    </tr>\n",
       "  </tbody>\n",
       "</table>\n",
       "</div>"
      ],
      "text/plain": [
       "     TV      Radio  Social Media  Influencer_Macro  Influencer_Mega  \\\n",
       "0  16.0   6.566231      2.907983                 0                1   \n",
       "1  13.0   9.237765      2.409567                 0                1   \n",
       "2  41.0  15.886446      2.913410                 0                1   \n",
       "3  83.0  30.020028      6.922304                 0                1   \n",
       "4  15.0   8.437408      1.405998                 0                0   \n",
       "\n",
       "   Influencer_Micro  Influencer_Nano       Sales  \n",
       "0                 0                0   54.732757  \n",
       "1                 0                0   46.677897  \n",
       "2                 0                0  150.177829  \n",
       "3                 0                0  298.246340  \n",
       "4                 1                0   56.594181  "
      ]
     },
     "execution_count": 7,
     "metadata": {},
     "output_type": "execute_result"
    }
   ],
   "source": [
    "retail=retail[['TV', 'Radio', 'Social Media', 'Influencer_Macro',\n",
    "       'Influencer_Mega', 'Influencer_Micro', 'Influencer_Nano', 'Sales']]\n",
    "retail.head()"
   ]
  },
  {
   "cell_type": "code",
   "execution_count": 8,
   "metadata": {},
   "outputs": [
    {
     "data": {
      "text/html": [
       "<div>\n",
       "<style scoped>\n",
       "    .dataframe tbody tr th:only-of-type {\n",
       "        vertical-align: middle;\n",
       "    }\n",
       "\n",
       "    .dataframe tbody tr th {\n",
       "        vertical-align: top;\n",
       "    }\n",
       "\n",
       "    .dataframe thead th {\n",
       "        text-align: right;\n",
       "    }\n",
       "</style>\n",
       "<table border=\"1\" class=\"dataframe\">\n",
       "  <thead>\n",
       "    <tr style=\"text-align: right;\">\n",
       "      <th></th>\n",
       "      <th>TV</th>\n",
       "      <th>Radio</th>\n",
       "      <th>Social Media</th>\n",
       "      <th>Influencer_Macro</th>\n",
       "      <th>Influencer_Mega</th>\n",
       "      <th>Influencer_Micro</th>\n",
       "      <th>Influencer_Nano</th>\n",
       "      <th>Sales</th>\n",
       "    </tr>\n",
       "  </thead>\n",
       "  <tbody>\n",
       "    <tr>\n",
       "      <th>TV</th>\n",
       "      <td>1.000000</td>\n",
       "      <td>0.866885</td>\n",
       "      <td>0.527010</td>\n",
       "      <td>0.021335</td>\n",
       "      <td>-0.012630</td>\n",
       "      <td>-0.004863</td>\n",
       "      <td>-0.003645</td>\n",
       "      <td>0.996652</td>\n",
       "    </tr>\n",
       "    <tr>\n",
       "      <th>Radio</th>\n",
       "      <td>0.866885</td>\n",
       "      <td>1.000000</td>\n",
       "      <td>0.606793</td>\n",
       "      <td>0.009518</td>\n",
       "      <td>-0.005071</td>\n",
       "      <td>0.004212</td>\n",
       "      <td>-0.008601</td>\n",
       "      <td>0.867369</td>\n",
       "    </tr>\n",
       "    <tr>\n",
       "      <th>Social Media</th>\n",
       "      <td>0.527010</td>\n",
       "      <td>0.606793</td>\n",
       "      <td>1.000000</td>\n",
       "      <td>0.011631</td>\n",
       "      <td>0.013072</td>\n",
       "      <td>-0.013312</td>\n",
       "      <td>-0.011351</td>\n",
       "      <td>0.528121</td>\n",
       "    </tr>\n",
       "    <tr>\n",
       "      <th>Influencer_Macro</th>\n",
       "      <td>0.021335</td>\n",
       "      <td>0.009518</td>\n",
       "      <td>0.011631</td>\n",
       "      <td>1.000000</td>\n",
       "      <td>-0.332131</td>\n",
       "      <td>-0.331171</td>\n",
       "      <td>-0.328482</td>\n",
       "      <td>0.019267</td>\n",
       "    </tr>\n",
       "    <tr>\n",
       "      <th>Influencer_Mega</th>\n",
       "      <td>-0.012630</td>\n",
       "      <td>-0.005071</td>\n",
       "      <td>0.013072</td>\n",
       "      <td>-0.332131</td>\n",
       "      <td>1.000000</td>\n",
       "      <td>-0.338211</td>\n",
       "      <td>-0.335465</td>\n",
       "      <td>-0.011701</td>\n",
       "    </tr>\n",
       "    <tr>\n",
       "      <th>Influencer_Micro</th>\n",
       "      <td>-0.004863</td>\n",
       "      <td>0.004212</td>\n",
       "      <td>-0.013312</td>\n",
       "      <td>-0.331171</td>\n",
       "      <td>-0.338211</td>\n",
       "      <td>1.000000</td>\n",
       "      <td>-0.334495</td>\n",
       "      <td>-0.004099</td>\n",
       "    </tr>\n",
       "    <tr>\n",
       "      <th>Influencer_Nano</th>\n",
       "      <td>-0.003645</td>\n",
       "      <td>-0.008601</td>\n",
       "      <td>-0.011351</td>\n",
       "      <td>-0.328482</td>\n",
       "      <td>-0.335465</td>\n",
       "      <td>-0.334495</td>\n",
       "      <td>1.000000</td>\n",
       "      <td>-0.003289</td>\n",
       "    </tr>\n",
       "    <tr>\n",
       "      <th>Sales</th>\n",
       "      <td>0.996652</td>\n",
       "      <td>0.867369</td>\n",
       "      <td>0.528121</td>\n",
       "      <td>0.019267</td>\n",
       "      <td>-0.011701</td>\n",
       "      <td>-0.004099</td>\n",
       "      <td>-0.003289</td>\n",
       "      <td>1.000000</td>\n",
       "    </tr>\n",
       "  </tbody>\n",
       "</table>\n",
       "</div>"
      ],
      "text/plain": [
       "                        TV     Radio  Social Media  Influencer_Macro  \\\n",
       "TV                1.000000  0.866885      0.527010          0.021335   \n",
       "Radio             0.866885  1.000000      0.606793          0.009518   \n",
       "Social Media      0.527010  0.606793      1.000000          0.011631   \n",
       "Influencer_Macro  0.021335  0.009518      0.011631          1.000000   \n",
       "Influencer_Mega  -0.012630 -0.005071      0.013072         -0.332131   \n",
       "Influencer_Micro -0.004863  0.004212     -0.013312         -0.331171   \n",
       "Influencer_Nano  -0.003645 -0.008601     -0.011351         -0.328482   \n",
       "Sales             0.996652  0.867369      0.528121          0.019267   \n",
       "\n",
       "                  Influencer_Mega  Influencer_Micro  Influencer_Nano     Sales  \n",
       "TV                      -0.012630         -0.004863        -0.003645  0.996652  \n",
       "Radio                   -0.005071          0.004212        -0.008601  0.867369  \n",
       "Social Media             0.013072         -0.013312        -0.011351  0.528121  \n",
       "Influencer_Macro        -0.332131         -0.331171        -0.328482  0.019267  \n",
       "Influencer_Mega          1.000000         -0.338211        -0.335465 -0.011701  \n",
       "Influencer_Micro        -0.338211          1.000000        -0.334495 -0.004099  \n",
       "Influencer_Nano         -0.335465         -0.334495         1.000000 -0.003289  \n",
       "Sales                   -0.011701         -0.004099        -0.003289  1.000000  "
      ]
     },
     "execution_count": 8,
     "metadata": {},
     "output_type": "execute_result"
    }
   ],
   "source": [
    "#Seeing the correlation of data\n",
    "retail.corr()"
   ]
  },
  {
   "cell_type": "markdown",
   "metadata": {},
   "source": [
    "## Splitting the data \n"
   ]
  },
  {
   "cell_type": "code",
   "execution_count": 9,
   "metadata": {},
   "outputs": [],
   "source": [
    "from sklearn.model_selection import train_test_split\n",
    "x = retail.iloc[:,0:-1].values\n",
    "y = retail.iloc[:,-1:].values"
   ]
  },
  {
   "cell_type": "markdown",
   "metadata": {},
   "source": [
    "### Distributing the dataset into 3 parts test, train and validation set "
   ]
  },
  {
   "cell_type": "code",
   "execution_count": 10,
   "metadata": {},
   "outputs": [],
   "source": [
    "x_train, x_test, y_train, y_test=train_test_split(x,y, test_size=0.4, random_state=42)\n",
    "x_train, x_val, y_train, y_val=train_test_split(x_train,y_train, test_size=0.5, random_state=42)"
   ]
  },
  {
   "cell_type": "code",
   "execution_count": 11,
   "metadata": {},
   "outputs": [
    {
     "name": "stdout",
     "output_type": "stream",
     "text": [
      "1371 1829 1372\n"
     ]
    }
   ],
   "source": [
    "print(len(x_train), len(x_test), len(x_val))"
   ]
  },
  {
   "cell_type": "markdown",
   "metadata": {},
   "source": [
    "# Analysis "
   ]
  },
  {
   "cell_type": "code",
   "execution_count": 12,
   "metadata": {},
   "outputs": [],
   "source": [
    "import joblib \n",
    "\n",
    "from sklearn.linear_model import LinearRegression\n",
    "from sklearn.ensemble import RandomForestRegressor\n",
    "from sklearn.svm import SVR\n",
    "from sklearn.tree import DecisionTreeRegressor\n",
    "from sklearn.preprocessing import PolynomialFeatures\n",
    "from sklearn.preprocessing import StandardScaler\n",
    "from sklearn.metrics import r2_score\n",
    "from sklearn.metrics import mean_squared_error as mse\n",
    "from sklearn.model_selection import GridSearchCV\n",
    "from time import time\n",
    "import warnings \n",
    "warnings.filterwarnings('ignore', category=FutureWarning)\n",
    "warnings.filterwarnings('ignore', category=DeprecationWarning)\n",
    "# import warnings filter\n",
    "from warnings import simplefilter\n",
    "# ignore all future warnings\n",
    "simplefilter(action='ignore', category=FutureWarning)\n",
    "\n"
   ]
  },
  {
   "cell_type": "code",
   "execution_count": 13,
   "metadata": {},
   "outputs": [],
   "source": [
    "#statement to refine the hyperparameter, prints out the avg accuracy score of the hyperpara\n",
    "def print_results(results):\n",
    "    print('BEST PARAMS: {}\\n'.format(results.best_params_))\n",
    "          \n",
    "    means = results.cv_results_['mean_test_score']\n",
    "    stds = results.cv_results_['std_test_score']\n",
    "    for mean, std, params in zip(means, stds, results.cv_results_['params']):\n",
    "          print('{}(+/-{}) for {}'.format(round(mean,3),round(std*2,3),params))"
   ]
  },
  {
   "cell_type": "markdown",
   "metadata": {},
   "source": [
    "## Linear Regression\n"
   ]
  },
  {
   "cell_type": "code",
   "execution_count": 14,
   "metadata": {},
   "outputs": [
    {
     "data": {
      "text/plain": [
       "dict_keys(['copy_X', 'fit_intercept', 'n_jobs', 'normalize'])"
      ]
     },
     "execution_count": 14,
     "metadata": {},
     "output_type": "execute_result"
    }
   ],
   "source": [
    "lr = LinearRegression()\n",
    "lr.get_params().keys()"
   ]
  },
  {
   "cell_type": "code",
   "execution_count": 15,
   "metadata": {},
   "outputs": [
    {
     "data": {
      "text/plain": [
       "LinearRegression()"
      ]
     },
     "execution_count": 15,
     "metadata": {},
     "output_type": "execute_result"
    }
   ],
   "source": [
    "lr.fit(x_train, y_train)\n",
    "# after training the data, perform prediction:"
   ]
  },
  {
   "cell_type": "code",
   "execution_count": 16,
   "metadata": {},
   "outputs": [
    {
     "name": "stdout",
     "output_type": "stream",
     "text": [
      "[[ 3.55648020e+00 -1.93602290e-03 -3.29185533e-02  4.38361831e-02\n",
      "   4.62229036e-01 -1.36723997e-01 -3.69341222e-01]] [0.44202493]\n"
     ]
    }
   ],
   "source": [
    "#y_pred_lr = lr.predict(x_test) # this is the prediction \n",
    "\n",
    "# evaluate the r2_score and RMSE between prediction and real data\n",
    "\n",
    "#print(r2_score(y_test, y_pred_lr))\n",
    "#print(mse(y_test, y_pred_lr)**0.5)\n",
    "print(lr.coef_, lr.intercept_)"
   ]
  },
  {
   "cell_type": "code",
   "execution_count": 17,
   "metadata": {},
   "outputs": [
    {
     "data": {
      "text/plain": [
       "['LR_model.pkl']"
      ]
     },
     "execution_count": 17,
     "metadata": {},
     "output_type": "execute_result"
    }
   ],
   "source": [
    "joblib.dump(lr, 'LR_model.pkl')"
   ]
  },
  {
   "cell_type": "markdown",
   "metadata": {},
   "source": [
    "## Random Forest Regerssor"
   ]
  },
  {
   "cell_type": "code",
   "execution_count": 18,
   "metadata": {},
   "outputs": [
    {
     "data": {
      "text/plain": [
       "dict_keys(['bootstrap', 'ccp_alpha', 'criterion', 'max_depth', 'max_features', 'max_leaf_nodes', 'max_samples', 'min_impurity_decrease', 'min_impurity_split', 'min_samples_leaf', 'min_samples_split', 'min_weight_fraction_leaf', 'n_estimators', 'n_jobs', 'oob_score', 'random_state', 'verbose', 'warm_start'])"
      ]
     },
     "execution_count": 18,
     "metadata": {},
     "output_type": "execute_result"
    }
   ],
   "source": [
    "rf=RandomForestRegressor()\n",
    "rf.get_params().keys()"
   ]
  },
  {
   "cell_type": "code",
   "execution_count": 19,
   "metadata": {},
   "outputs": [
    {
     "name": "stdout",
     "output_type": "stream",
     "text": [
      "BEST PARAMS: {'max_depth': 8, 'n_estimators': 250}\n",
      "\n",
      "0.941(+/-0.009) for {'max_depth': 2, 'n_estimators': 5}\n",
      "0.943(+/-0.01) for {'max_depth': 2, 'n_estimators': 50}\n",
      "0.943(+/-0.01) for {'max_depth': 2, 'n_estimators': 250}\n",
      "0.994(+/-0.008) for {'max_depth': 4, 'n_estimators': 5}\n",
      "0.995(+/-0.007) for {'max_depth': 4, 'n_estimators': 50}\n",
      "0.995(+/-0.008) for {'max_depth': 4, 'n_estimators': 250}\n",
      "0.995(+/-0.007) for {'max_depth': 8, 'n_estimators': 5}\n",
      "0.996(+/-0.007) for {'max_depth': 8, 'n_estimators': 50}\n",
      "0.996(+/-0.007) for {'max_depth': 8, 'n_estimators': 250}\n",
      "0.994(+/-0.009) for {'max_depth': 16, 'n_estimators': 5}\n",
      "0.996(+/-0.007) for {'max_depth': 16, 'n_estimators': 50}\n",
      "0.996(+/-0.007) for {'max_depth': 16, 'n_estimators': 250}\n",
      "0.995(+/-0.007) for {'max_depth': 32, 'n_estimators': 5}\n",
      "0.996(+/-0.007) for {'max_depth': 32, 'n_estimators': 50}\n",
      "0.996(+/-0.007) for {'max_depth': 32, 'n_estimators': 250}\n",
      "0.995(+/-0.007) for {'max_depth': None, 'n_estimators': 5}\n",
      "0.996(+/-0.007) for {'max_depth': None, 'n_estimators': 50}\n",
      "0.996(+/-0.007) for {'max_depth': None, 'n_estimators': 250}\n"
     ]
    }
   ],
   "source": [
    "parameters = {\n",
    "    'n_estimators' : [5, 50, 250],\n",
    "    'max_depth' : [2, 4, 8, 16, 32, None]\n",
    "}\n",
    "\n",
    "cv= GridSearchCV(rf, parameters, cv=5)\n",
    "cv.fit(x_train, y_train.ravel())\n",
    "\n",
    "print_results(cv)"
   ]
  },
  {
   "cell_type": "code",
   "execution_count": 20,
   "metadata": {},
   "outputs": [
    {
     "data": {
      "text/plain": [
       "['RF_model.pkl']"
      ]
     },
     "execution_count": 20,
     "metadata": {},
     "output_type": "execute_result"
    }
   ],
   "source": [
    "joblib.dump(cv.best_estimator_, 'RF_model.pkl')"
   ]
  },
  {
   "cell_type": "markdown",
   "metadata": {},
   "source": [
    "## Decision Tree "
   ]
  },
  {
   "cell_type": "code",
   "execution_count": 21,
   "metadata": {},
   "outputs": [
    {
     "data": {
      "text/plain": [
       "dict_keys(['ccp_alpha', 'criterion', 'max_depth', 'max_features', 'max_leaf_nodes', 'min_impurity_decrease', 'min_impurity_split', 'min_samples_leaf', 'min_samples_split', 'min_weight_fraction_leaf', 'presort', 'random_state', 'splitter'])"
      ]
     },
     "execution_count": 21,
     "metadata": {},
     "output_type": "execute_result"
    }
   ],
   "source": [
    "dt= DecisionTreeRegressor()\n",
    "dt.get_params().keys()"
   ]
  },
  {
   "cell_type": "code",
   "execution_count": 22,
   "metadata": {},
   "outputs": [
    {
     "name": "stdout",
     "output_type": "stream",
     "text": [
      "BEST PARAMS: {'max_depth': None}\n",
      "\n",
      "0.933(+/-0.01) for {'max_depth': 2}\n",
      "0.992(+/-0.007) for {'max_depth': 4}\n",
      "0.994(+/-0.007) for {'max_depth': 8}\n",
      "0.993(+/-0.011) for {'max_depth': 16}\n",
      "0.993(+/-0.011) for {'max_depth': 32}\n",
      "0.995(+/-0.008) for {'max_depth': None}\n"
     ]
    }
   ],
   "source": [
    "parameters = {\n",
    "    'max_depth' : [2, 4, 8, 16, 32, None]\n",
    "}\n",
    "\n",
    "cv= GridSearchCV(dt, parameters, cv=5)\n",
    "cv.fit(x_train, y_train.ravel())\n",
    "\n",
    "print_results(cv)"
   ]
  },
  {
   "cell_type": "code",
   "execution_count": 23,
   "metadata": {},
   "outputs": [
    {
     "data": {
      "text/plain": [
       "['DT_model.pkl']"
      ]
     },
     "execution_count": 23,
     "metadata": {},
     "output_type": "execute_result"
    }
   ],
   "source": [
    "joblib.dump(cv.best_estimator_, 'DT_model.pkl')"
   ]
  },
  {
   "cell_type": "markdown",
   "metadata": {},
   "source": [
    "## Support Vector Regressor \n",
    " SVR requires feature sacaling for which we would be using Standard Scaler "
   ]
  },
  {
   "cell_type": "code",
   "execution_count": 24,
   "metadata": {},
   "outputs": [],
   "source": [
    "a = retail.iloc[:,0:-1].values\n",
    "b = retail.iloc[:,-1:].values\n",
    "\n",
    "# reshape b\n",
    "\n",
    "b = b.reshape(len(b), 1)"
   ]
  },
  {
   "cell_type": "code",
   "execution_count": 25,
   "metadata": {},
   "outputs": [],
   "source": [
    "# now we split to train and test\n",
    "\n",
    "a_train, a_test, b_train, b_test = train_test_split(a, b,test_size=0.4, random_state=42)\n",
    "a_train, a_val, b_train, b_val=train_test_split(a_train,b_train, test_size=0.5, random_state=42)"
   ]
  },
  {
   "cell_type": "code",
   "execution_count": 26,
   "metadata": {},
   "outputs": [],
   "source": [
    "# now perform scaling\n",
    "\n",
    "scala = StandardScaler()\n",
    "scalb = StandardScaler()\n",
    "\n",
    "a_train = scala.fit_transform(a_train)\n",
    "b_train = scalb.fit_transform(b_train)"
   ]
  },
  {
   "cell_type": "code",
   "execution_count": 27,
   "metadata": {},
   "outputs": [
    {
     "data": {
      "text/plain": [
       "dict_keys(['C', 'cache_size', 'coef0', 'degree', 'epsilon', 'gamma', 'kernel', 'max_iter', 'shrinking', 'tol', 'verbose'])"
      ]
     },
     "execution_count": 27,
     "metadata": {},
     "output_type": "execute_result"
    }
   ],
   "source": [
    "sv = SVR()\n",
    "sv.get_params().keys()\n"
   ]
  },
  {
   "cell_type": "code",
   "execution_count": 28,
   "metadata": {},
   "outputs": [
    {
     "name": "stdout",
     "output_type": "stream",
     "text": [
      "BEST PARAMS: {'C': 1, 'kernel': 'linear'}\n",
      "\n",
      "0.996(+/-0.007) for {'C': 0.1, 'kernel': 'linear'}\n",
      "0.982(+/-0.009) for {'C': 0.1, 'kernel': 'rbf'}\n",
      "0.996(+/-0.007) for {'C': 1, 'kernel': 'linear'}\n",
      "0.993(+/-0.008) for {'C': 1, 'kernel': 'rbf'}\n",
      "0.996(+/-0.007) for {'C': 10, 'kernel': 'linear'}\n",
      "0.994(+/-0.008) for {'C': 10, 'kernel': 'rbf'}\n"
     ]
    }
   ],
   "source": [
    "parameters={\n",
    "    'kernel' : ['linear', 'rbf'],\n",
    "    'C' :[0.1,1,10]\n",
    "}\n",
    "cv=GridSearchCV(sv, parameters, cv=5)\n",
    "cv.fit(a_train, b_train.ravel())\n",
    "\n",
    "print_results(cv)"
   ]
  },
  {
   "cell_type": "code",
   "execution_count": 29,
   "metadata": {},
   "outputs": [
    {
     "data": {
      "text/plain": [
       "['SVR_model.pkl']"
      ]
     },
     "execution_count": 29,
     "metadata": {},
     "output_type": "execute_result"
    }
   ],
   "source": [
    "joblib.dump(cv.best_estimator_, 'SVR_model.pkl')"
   ]
  },
  {
   "cell_type": "markdown",
   "metadata": {},
   "source": [
    "## Polynomial Regressor"
   ]
  },
  {
   "cell_type": "code",
   "execution_count": 30,
   "metadata": {},
   "outputs": [
    {
     "data": {
      "text/plain": [
       "dict_keys(['copy_X', 'fit_intercept', 'n_jobs', 'normalize'])"
      ]
     },
     "execution_count": 30,
     "metadata": {},
     "output_type": "execute_result"
    }
   ],
   "source": [
    "poly = PolynomialFeatures()\n",
    "po_regressor = LinearRegression()\n",
    "po_regressor.get_params().keys()"
   ]
  },
  {
   "cell_type": "code",
   "execution_count": 31,
   "metadata": {
    "scrolled": true
   },
   "outputs": [
    {
     "name": "stdout",
     "output_type": "stream",
     "text": [
      "[[-5.19894441e-14  2.82435725e+00  1.45507725e-02 -5.38101171e-02\n",
      "  -1.29793801e-01  5.12608710e-01 -1.72212224e-01 -2.10602685e-01\n",
      "   2.89349224e-04  5.85712168e-04 -4.69941543e-03  7.26383695e-01\n",
      "   6.65166461e-01  7.04172141e-01  7.28634957e-01 -2.00531686e-03\n",
      "   6.38738244e-03 -4.31560045e-02  1.17106812e-01  2.69521348e-03\n",
      "  -6.20952482e-02  2.25652951e-02  3.66687619e-03 -1.40089475e-01\n",
      "   8.70432982e-02 -4.43081674e-03 -1.29793801e-01  0.00000000e+00\n",
      "   0.00000000e+00  0.00000000e+00  5.12608710e-01  0.00000000e+00\n",
      "   0.00000000e+00 -1.72212224e-01  0.00000000e+00 -2.10602685e-01]] [0.84710486]\n"
     ]
    }
   ],
   "source": [
    "po_regressor.fit(poly.fit_transform(x_train), y_train)\n",
    "print(po_regressor.coef_, po_regressor.intercept_)"
   ]
  },
  {
   "cell_type": "code",
   "execution_count": 32,
   "metadata": {},
   "outputs": [
    {
     "data": {
      "text/plain": [
       "['Polynomial_model.pkl']"
      ]
     },
     "execution_count": 32,
     "metadata": {},
     "output_type": "execute_result"
    }
   ],
   "source": [
    "joblib.dump(po_regressor, 'Polynomial_model.pkl')"
   ]
  },
  {
   "cell_type": "markdown",
   "metadata": {},
   "source": [
    "# Evaluating Various Models"
   ]
  },
  {
   "cell_type": "code",
   "execution_count": 33,
   "metadata": {},
   "outputs": [],
   "source": [
    "models = {}\n",
    "\n",
    "for mdl in [ 'LR','RF', 'DT', 'SVR','Polynomial']:\n",
    "    #the {} helps in formatting the string to add the name instead, pretty witty\n",
    "    models[mdl] = joblib.load('{}_model.pkl.'.format(mdl))\n"
   ]
  },
  {
   "cell_type": "code",
   "execution_count": 34,
   "metadata": {},
   "outputs": [
    {
     "data": {
      "text/plain": [
       "{'LR': LinearRegression(),\n",
       " 'RF': RandomForestRegressor(max_depth=8, n_estimators=250),\n",
       " 'DT': DecisionTreeRegressor(),\n",
       " 'SVR': SVR(C=1, kernel='linear'),\n",
       " 'Polynomial': LinearRegression()}"
      ]
     },
     "execution_count": 34,
     "metadata": {},
     "output_type": "execute_result"
    }
   ],
   "source": [
    "models"
   ]
  },
  {
   "cell_type": "code",
   "execution_count": 39,
   "metadata": {},
   "outputs": [],
   "source": [
    "def evaluate_model(name, model, features, labels):\n",
    "    start = time()\n",
    "    pred = model.predict(features)\n",
    "    end = time()\n",
    "    r2 = round(r2_score(labels, pred), 3)\n",
    "    mean2 = round(mse(labels, pred),3)\n",
    "    print('{} -- R2 Score: {} / Mean squared Error: {} / Latency: {}ms'.format(name,r2,mean2**0.5,round((end-start),3)))\n",
    "    "
   ]
  },
  {
   "cell_type": "code",
   "execution_count": 40,
   "metadata": {},
   "outputs": [
    {
     "name": "stdout",
     "output_type": "stream",
     "text": [
      "LR -- R2 Score: 0.993 / Mean squared Error: 8.092094907995087 / Latency: 0.001ms\n",
      "RF -- R2 Score: 0.994 / Mean squared Error: 7.304039977984786 / Latency: 0.1ms\n",
      "DT -- R2 Score: 0.992 / Mean squared Error: 8.538091121556388 / Latency: 0.001ms\n",
      "SVR -- R2 Score: -1.805 / Mean squared Error: 156.83629363128932 / Latency: 0.001ms\n",
      "Polynomial -- R2 Score: 0.993 / Mean squared Error: 8.083563570604241 / Latency: 0.001ms\n"
     ]
    }
   ],
   "source": [
    "count=1\n",
    "for name, mdl in models.items():\n",
    "    if count==4:\n",
    "        evaluate_model(name, mdl, a_val, b_val)\n",
    "    elif count==5:\n",
    "        evaluate_model(name, mdl, poly.fit_transform(x_val), y_val)\n",
    "    else:\n",
    "        evaluate_model(name, mdl, x_val, y_val)\n",
    "    count=count+1"
   ]
  },
  {
   "cell_type": "markdown",
   "metadata": {},
   "source": [
    "## Decision Tree seems to be the Best model for the problem "
   ]
  },
  {
   "cell_type": "code",
   "execution_count": 41,
   "metadata": {},
   "outputs": [
    {
     "name": "stdout",
     "output_type": "stream",
     "text": [
      "Random Forest  -- R2 Score: 0.99 / Mean squared Error: 9.398936110007345 / Latency: 0.105ms\n"
     ]
    }
   ],
   "source": [
    "evaluate_model('Random Forest ', models['RF'], x_test, y_test)"
   ]
  },
  {
   "cell_type": "code",
   "execution_count": null,
   "metadata": {},
   "outputs": [],
   "source": []
  }
 ],
 "metadata": {
  "kernelspec": {
   "display_name": "Python 3",
   "language": "python",
   "name": "python3"
  },
  "language_info": {
   "codemirror_mode": {
    "name": "ipython",
    "version": 3
   },
   "file_extension": ".py",
   "mimetype": "text/x-python",
   "name": "python",
   "nbconvert_exporter": "python",
   "pygments_lexer": "ipython3",
   "version": "3.8.5"
  }
 },
 "nbformat": 4,
 "nbformat_minor": 4
}
